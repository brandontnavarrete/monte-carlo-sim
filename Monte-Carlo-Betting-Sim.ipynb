{
 "cells": [
  {
   "cell_type": "markdown",
   "id": "abc4087e",
   "metadata": {},
   "source": [
    "# imports"
   ]
  },
  {
   "cell_type": "code",
   "execution_count": 3,
   "id": "cff7f023",
   "metadata": {},
   "outputs": [],
   "source": [
    "import random as r\n"
   ]
  },
  {
   "cell_type": "markdown",
   "id": "934578f3",
   "metadata": {},
   "source": [
    "<div class = 'alert alert-info alert-success'> \n",
    "   \n",
    "   Simulating Gambling Odds:\n",
    "    \n",
    "   1-50: The House Wins\n",
    "    \n",
    "   51-99: You Win\n",
    "    \n",
    "   100: The House Wins\n",
    "    \n",
    "   The house has a 1% edge winning over you. Overtime this amplifies and will become evident.\n",
    "    \n",
    "</div>"
   ]
  },
  {
   "cell_type": "markdown",
   "id": "eccdbbd2",
   "metadata": {},
   "source": [
    "# Dice Rolling Function"
   ]
  },
  {
   "cell_type": "code",
   "execution_count": 22,
   "id": "66b59a5b",
   "metadata": {},
   "outputs": [],
   "source": [
    "def rollDice():\n",
    "    # produce some number between 1 and 100\n",
    "    roll = r.randint(1,100)\n",
    "    \n",
    "    if roll == 100:\n",
    "        print(roll)\n",
    "        print(\"You Lose.\")\n",
    "        print('------')\n",
    "        print('\\n')\n",
    "        \n",
    "        return False\n",
    "    \n",
    "    elif roll <= 50:\n",
    "        print(roll)\n",
    "        print(\"You Lose.\")\n",
    "        print('------')\n",
    "        print('\\n')\n",
    "        \n",
    "        return False\n",
    "        \n",
    "    elif 100 > roll > 50:\n",
    "        print(roll)\n",
    "        print(\"You Win.\")\n",
    "        print('------')\n",
    "        print('\\n')\n",
    "        \n",
    "        return True\n",
    "    "
   ]
  },
  {
   "cell_type": "code",
   "execution_count": 23,
   "id": "7b095758",
   "metadata": {},
   "outputs": [
    {
     "name": "stdout",
     "output_type": "stream",
     "text": [
      "41\n",
      "You Lose.\n",
      "------\n",
      "\n",
      "\n",
      "28\n",
      "You Lose.\n",
      "------\n",
      "\n",
      "\n",
      "16\n",
      "You Lose.\n",
      "------\n",
      "\n",
      "\n",
      "91\n",
      "You Win.\n",
      "------\n",
      "\n",
      "\n",
      "6\n",
      "You Lose.\n",
      "------\n",
      "\n",
      "\n"
     ]
    }
   ],
   "source": [
    "# testing the function\n",
    "x = 0\n",
    "while x < 5:\n",
    "    results = rollDice()\n",
    "    \n",
    "    x += 1"
   ]
  },
  {
   "cell_type": "markdown",
   "id": "ec389eb6",
   "metadata": {},
   "source": [
    "# Betting Function"
   ]
  },
  {
   "cell_type": "code",
   "execution_count": 27,
   "id": "926564cc",
   "metadata": {},
   "outputs": [],
   "source": [
    "def simpleBetter(funds, init_wager, wager_count):\n",
    "    value = funds\n",
    "    wager = init_wager\n",
    "    \n",
    "    current_wager = 0\n",
    "    \n",
    "    \n",
    "    while current_wager < wager_count:\n",
    "        # if True, we win add value up.\n",
    "        if rollDice():\n",
    "            value += wager\n",
    "            # else false, take value away.\n",
    "        else:\n",
    "            value -= wager\n",
    "        \n",
    "        # move counter up\n",
    "        current_wager += 1\n",
    "        \n",
    "        print(f'funds:{value}')\n",
    "    "
   ]
  },
  {
   "cell_type": "code",
   "execution_count": 29,
   "id": "79dffa35",
   "metadata": {},
   "outputs": [
    {
     "name": "stdout",
     "output_type": "stream",
     "text": [
      "69\n",
      "You Win.\n",
      "------\n",
      "\n",
      "\n",
      "funds:110\n",
      "75\n",
      "You Win.\n",
      "------\n",
      "\n",
      "\n",
      "funds:120\n",
      "17\n",
      "You Lose.\n",
      "------\n",
      "\n",
      "\n",
      "funds:110\n",
      "75\n",
      "You Win.\n",
      "------\n",
      "\n",
      "\n",
      "funds:120\n",
      "30\n",
      "You Lose.\n",
      "------\n",
      "\n",
      "\n",
      "funds:110\n",
      "10\n",
      "You Lose.\n",
      "------\n",
      "\n",
      "\n",
      "funds:100\n",
      "89\n",
      "You Win.\n",
      "------\n",
      "\n",
      "\n",
      "funds:110\n",
      "64\n",
      "You Win.\n",
      "------\n",
      "\n",
      "\n",
      "funds:120\n",
      "60\n",
      "You Win.\n",
      "------\n",
      "\n",
      "\n",
      "funds:130\n",
      "64\n",
      "You Win.\n",
      "------\n",
      "\n",
      "\n",
      "funds:140\n"
     ]
    }
   ],
   "source": [
    "# test function\n",
    "# I'm betting 100 dollars in 10 dollar increments, 10 times.\n",
    "simpleBetter(100, 10, 10)"
   ]
  },
  {
   "cell_type": "markdown",
   "id": "997e0dca",
   "metadata": {},
   "source": [
    "<div class = 'alert alert-info alert-success'> \n",
    "\n",
    "I could start uploading this into a pandas dataframe and explore for some analysis\n",
    "\n",
    "</div>"
   ]
  },
  {
   "cell_type": "code",
   "execution_count": null,
   "id": "381faf44",
   "metadata": {},
   "outputs": [],
   "source": []
  }
 ],
 "metadata": {
  "kernelspec": {
   "display_name": "Python 3 (ipykernel)",
   "language": "python",
   "name": "python3"
  },
  "language_info": {
   "codemirror_mode": {
    "name": "ipython",
    "version": 3
   },
   "file_extension": ".py",
   "mimetype": "text/x-python",
   "name": "python",
   "nbconvert_exporter": "python",
   "pygments_lexer": "ipython3",
   "version": "3.9.13"
  }
 },
 "nbformat": 4,
 "nbformat_minor": 5
}
